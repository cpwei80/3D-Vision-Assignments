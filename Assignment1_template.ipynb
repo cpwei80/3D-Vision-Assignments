{
 "cells": [
  {
   "cell_type": "code",
   "execution_count": 2,
   "metadata": {},
   "outputs": [
    {
     "name": "stdout",
     "output_type": "stream",
     "text": [
      "(3, 68)\n"
     ]
    }
   ],
   "source": [
    "import matplotlib.pyplot as plt\n",
    "from mpl_toolkits import mplot3d\n",
    "import numpy as np\n",
    "from math import cos, sin\n",
    "%matplotlib notebook\n",
    "\n",
    "face3d = np.load('f3d_68_pts.npy')\n",
    "print(face3d.shape)"
   ]
  },
  {
   "cell_type": "code",
   "execution_count": 3,
   "metadata": {},
   "outputs": [],
   "source": [
    "# TODO 1: Draw the 3D facial landmarks.\n",
    "# enter your code here"
   ]
  },
  {
   "cell_type": "code",
   "execution_count": 5,
   "metadata": {},
   "outputs": [],
   "source": [
    "# TODO 2: Computer the Euclidean distance between inner eyes.\n",
    "# enter your code here"
   ]
  },
  {
   "cell_type": "code",
   "execution_count": 4,
   "metadata": {},
   "outputs": [],
   "source": [
    "# TODO 3: 3D-to-2D Projection.\n",
    "# Step 3.1: Construct the intrinsic matrix K.\n",
    "# Step 3.2: Contruct the extrinsic matrix [R,t].\n",
    "# Step 3.3: Construct the 2D projection matrix m.\n",
    "# Step 3.4: Plot matrix m.\n",
    "# Step 3.5: Plot matrix m with imshow.\n",
    "# enter your code here"
   ]
  },
  {
   "cell_type": "code",
   "execution_count": 26,
   "metadata": {},
   "outputs": [],
   "source": [
    "# Question 1: Why the orientation of the face in Figure 2 is different from that in Figure 3?\n",
    "# enter your answer here"
   ]
  },
  {
   "cell_type": "code",
   "execution_count": 6,
   "metadata": {},
   "outputs": [],
   "source": [
    "# TODO 4: Repeat Steps 3.1, 3.2, 3.3, 3.5 with different rotation matrices.\n",
    "# enter your code here"
   ]
  },
  {
   "cell_type": "code",
   "execution_count": 7,
   "metadata": {},
   "outputs": [],
   "source": [
    "# TODO 5: Augmented Reality\n",
    "# Step 5.1: Construct the eight vertices of the cube containing the 3D facial landmarks\n",
    "# Step 5.2: Follow TODO 4 to project the 3D facial landmarks and the eight vertices of the cube onto the 2D space.\n",
    "# enter your code here"
   ]
  },
  {
   "cell_type": "code",
   "execution_count": null,
   "metadata": {},
   "outputs": [],
   "source": []
  }
 ],
 "metadata": {
  "kernelspec": {
   "display_name": "Python 3",
   "language": "python",
   "name": "python3"
  },
  "language_info": {
   "codemirror_mode": {
    "name": "ipython",
    "version": 3
   },
   "file_extension": ".py",
   "mimetype": "text/x-python",
   "name": "python",
   "nbconvert_exporter": "python",
   "pygments_lexer": "ipython3",
   "version": "3.7.3"
  }
 },
 "nbformat": 4,
 "nbformat_minor": 2
}
